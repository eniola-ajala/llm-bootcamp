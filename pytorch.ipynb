{
  "nbformat": 4,
  "nbformat_minor": 0,
  "metadata": {
    "colab": {
      "provenance": []
    },
    "kernelspec": {
      "name": "python3",
      "display_name": "Python 3"
    },
    "language_info": {
      "name": "python"
    }
  },
  "cells": [
    {
      "cell_type": "markdown",
      "source": [
        "PyTorch Basics"
      ],
      "metadata": {
        "id": "V1paezlTkDCw"
      }
    },
    {
      "cell_type": "code",
      "execution_count": 98,
      "metadata": {
        "id": "2cpYbfZifUGk"
      },
      "outputs": [],
      "source": [
        "import torch\n",
        "import numpy as np"
      ]
    },
    {
      "cell_type": "markdown",
      "source": [
        "Create Tensor From List"
      ],
      "metadata": {
        "id": "q7LR365Rkd__"
      }
    },
    {
      "cell_type": "code",
      "source": [
        "data = [[1,2], [5,7]]\n",
        "tensors = torch.tensor(data)"
      ],
      "metadata": {
        "id": "5SNnyb1VkjwB"
      },
      "execution_count": 99,
      "outputs": []
    },
    {
      "cell_type": "code",
      "source": [
        "tensors"
      ],
      "metadata": {
        "colab": {
          "base_uri": "https://localhost:8080/"
        },
        "id": "mEIHNsz4kwW5",
        "outputId": "5100591c-f9ea-4f01-8e43-3a8e0ffbd0b8"
      },
      "execution_count": 100,
      "outputs": [
        {
          "output_type": "execute_result",
          "data": {
            "text/plain": [
              "tensor([[1, 2],\n",
              "        [5, 7]])"
            ]
          },
          "metadata": {},
          "execution_count": 100
        }
      ]
    },
    {
      "cell_type": "markdown",
      "source": [
        "Create from numpy"
      ],
      "metadata": {
        "id": "189vC_gvlMEI"
      }
    },
    {
      "cell_type": "code",
      "source": [
        "np_array  = np.arange(10)\n",
        "tensor_np = torch.from_numpy(np_array)"
      ],
      "metadata": {
        "id": "HTq8nHBAk8J6"
      },
      "execution_count": 101,
      "outputs": []
    },
    {
      "cell_type": "code",
      "source": [
        "tensor_np"
      ],
      "metadata": {
        "colab": {
          "base_uri": "https://localhost:8080/"
        },
        "id": "tfSW-CU0lo1H",
        "outputId": "1fa9d1c8-5332-4cc6-87b5-317e25a33dd8"
      },
      "execution_count": 102,
      "outputs": [
        {
          "output_type": "execute_result",
          "data": {
            "text/plain": [
              "tensor([0, 1, 2, 3, 4, 5, 6, 7, 8, 9])"
            ]
          },
          "metadata": {},
          "execution_count": 102
        }
      ]
    },
    {
      "cell_type": "code",
      "source": [
        "array2 = np.arange(1,10)\n",
        "tensors2 = torch.from_numpy(array2)\n",
        "tensors2"
      ],
      "metadata": {
        "colab": {
          "base_uri": "https://localhost:8080/"
        },
        "id": "48cIFoDJluea",
        "outputId": "fca6075e-8021-497f-9cc1-d0dc540549d9"
      },
      "execution_count": 103,
      "outputs": [
        {
          "output_type": "execute_result",
          "data": {
            "text/plain": [
              "tensor([1, 2, 3, 4, 5, 6, 7, 8, 9])"
            ]
          },
          "metadata": {},
          "execution_count": 103
        }
      ]
    },
    {
      "cell_type": "markdown",
      "source": [
        "Shape, ndim, and dtype"
      ],
      "metadata": {
        "id": "FyyfEuNomOLW"
      }
    },
    {
      "cell_type": "code",
      "source": [
        "tensors.shape"
      ],
      "metadata": {
        "colab": {
          "base_uri": "https://localhost:8080/"
        },
        "id": "r4Yqj_HCmAGa",
        "outputId": "53080330-7172-4d30-aaa1-993a2ed76f4b"
      },
      "execution_count": 104,
      "outputs": [
        {
          "output_type": "execute_result",
          "data": {
            "text/plain": [
              "torch.Size([2, 2])"
            ]
          },
          "metadata": {},
          "execution_count": 104
        }
      ]
    },
    {
      "cell_type": "code",
      "source": [
        "tensors2.shape"
      ],
      "metadata": {
        "colab": {
          "base_uri": "https://localhost:8080/"
        },
        "id": "Me9rcPF0mWkh",
        "outputId": "df71b71d-a2e4-44b9-fa6f-01b30bf5abf1"
      },
      "execution_count": 105,
      "outputs": [
        {
          "output_type": "execute_result",
          "data": {
            "text/plain": [
              "torch.Size([9])"
            ]
          },
          "metadata": {},
          "execution_count": 105
        }
      ]
    },
    {
      "cell_type": "code",
      "source": [
        "tensors.ndim"
      ],
      "metadata": {
        "colab": {
          "base_uri": "https://localhost:8080/"
        },
        "id": "B96vxX5fmcGB",
        "outputId": "99e4cb9f-5a7d-4e74-d07d-d108246d5c83"
      },
      "execution_count": 106,
      "outputs": [
        {
          "output_type": "execute_result",
          "data": {
            "text/plain": [
              "2"
            ]
          },
          "metadata": {},
          "execution_count": 106
        }
      ]
    },
    {
      "cell_type": "code",
      "source": [
        "tensors2.ndim"
      ],
      "metadata": {
        "colab": {
          "base_uri": "https://localhost:8080/"
        },
        "id": "jd1YQGFWmldi",
        "outputId": "8d9a0e36-df3b-4640-cc65-353f0f02a1a5"
      },
      "execution_count": 107,
      "outputs": [
        {
          "output_type": "execute_result",
          "data": {
            "text/plain": [
              "1"
            ]
          },
          "metadata": {},
          "execution_count": 107
        }
      ]
    },
    {
      "cell_type": "code",
      "source": [
        "tensors.dtype\n"
      ],
      "metadata": {
        "colab": {
          "base_uri": "https://localhost:8080/"
        },
        "id": "NQRb_J7amusK",
        "outputId": "0efa241e-013b-4a47-919c-c05d90572e77"
      },
      "execution_count": 108,
      "outputs": [
        {
          "output_type": "execute_result",
          "data": {
            "text/plain": [
              "torch.int64"
            ]
          },
          "metadata": {},
          "execution_count": 108
        }
      ]
    },
    {
      "cell_type": "code",
      "source": [
        "tensors2.dtype"
      ],
      "metadata": {
        "colab": {
          "base_uri": "https://localhost:8080/"
        },
        "id": "YvYWzBhRmzsK",
        "outputId": "62f7b573-8755-4979-92f1-bbe224b3e8de"
      },
      "execution_count": 109,
      "outputs": [
        {
          "output_type": "execute_result",
          "data": {
            "text/plain": [
              "torch.int64"
            ]
          },
          "metadata": {},
          "execution_count": 109
        }
      ]
    },
    {
      "cell_type": "markdown",
      "source": [
        "Tensor Operations"
      ],
      "metadata": {
        "id": "TeUvfDiqnC7P"
      }
    },
    {
      "cell_type": "code",
      "source": [
        "ten1 = torch.tensor([1,2,3])\n",
        "ten2 = torch.tensor([4,5,6])\n",
        "ten1 + ten2"
      ],
      "metadata": {
        "colab": {
          "base_uri": "https://localhost:8080/"
        },
        "id": "WQbtUKGmm31S",
        "outputId": "2721685c-cf99-4761-81a4-9b27cc14bda0"
      },
      "execution_count": 110,
      "outputs": [
        {
          "output_type": "execute_result",
          "data": {
            "text/plain": [
              "tensor([5, 7, 9])"
            ]
          },
          "metadata": {},
          "execution_count": 110
        }
      ]
    },
    {
      "cell_type": "code",
      "source": [
        "torch.add(ten1, ten2)"
      ],
      "metadata": {
        "colab": {
          "base_uri": "https://localhost:8080/"
        },
        "id": "aAYX2XE9npZT",
        "outputId": "cd812c9d-9d60-4b4d-8a5b-d671f5bb11a1"
      },
      "execution_count": 111,
      "outputs": [
        {
          "output_type": "execute_result",
          "data": {
            "text/plain": [
              "tensor([5, 7, 9])"
            ]
          },
          "metadata": {},
          "execution_count": 111
        }
      ]
    },
    {
      "cell_type": "code",
      "source": [
        "ten1 - ten2"
      ],
      "metadata": {
        "colab": {
          "base_uri": "https://localhost:8080/"
        },
        "id": "YJostxonnwKC",
        "outputId": "52c4e036-5905-4961-de5f-d68a917cd39c"
      },
      "execution_count": 112,
      "outputs": [
        {
          "output_type": "execute_result",
          "data": {
            "text/plain": [
              "tensor([-3, -3, -3])"
            ]
          },
          "metadata": {},
          "execution_count": 112
        }
      ]
    },
    {
      "cell_type": "code",
      "source": [
        "torch.sub(ten1, ten2)"
      ],
      "metadata": {
        "colab": {
          "base_uri": "https://localhost:8080/"
        },
        "id": "P5QzZlsWn0QZ",
        "outputId": "d80248a5-f34b-461b-cf1c-0e0668a19d2d"
      },
      "execution_count": 113,
      "outputs": [
        {
          "output_type": "execute_result",
          "data": {
            "text/plain": [
              "tensor([-3, -3, -3])"
            ]
          },
          "metadata": {},
          "execution_count": 113
        }
      ]
    },
    {
      "cell_type": "code",
      "source": [
        "ten1 * 10"
      ],
      "metadata": {
        "colab": {
          "base_uri": "https://localhost:8080/"
        },
        "id": "37S1ciR0n6l6",
        "outputId": "545374a7-ec6b-4d93-9e03-ba7e14d874d4"
      },
      "execution_count": 114,
      "outputs": [
        {
          "output_type": "execute_result",
          "data": {
            "text/plain": [
              "tensor([10, 20, 30])"
            ]
          },
          "metadata": {},
          "execution_count": 114
        }
      ]
    },
    {
      "cell_type": "code",
      "source": [
        "torch.matmul(ten1, ten2)"
      ],
      "metadata": {
        "colab": {
          "base_uri": "https://localhost:8080/"
        },
        "id": "jP6YksXSoCi6",
        "outputId": "f4d3642a-c3b2-4201-f3eb-066a78e8d544"
      },
      "execution_count": 115,
      "outputs": [
        {
          "output_type": "execute_result",
          "data": {
            "text/plain": [
              "tensor(32)"
            ]
          },
          "metadata": {},
          "execution_count": 115
        }
      ]
    },
    {
      "cell_type": "code",
      "source": [
        "matrix1 = torch.tensor([[1,2,3], [4,5,6], [7,8,9], [10,11,12]])\n",
        "matrix1.shape"
      ],
      "metadata": {
        "colab": {
          "base_uri": "https://localhost:8080/"
        },
        "id": "-xItb9BmoOi6",
        "outputId": "9d26e232-e580-4300-bc0e-e4a11afc13af"
      },
      "execution_count": 116,
      "outputs": [
        {
          "output_type": "execute_result",
          "data": {
            "text/plain": [
              "torch.Size([4, 3])"
            ]
          },
          "metadata": {},
          "execution_count": 116
        }
      ]
    },
    {
      "cell_type": "code",
      "source": [
        "matrix2 = torch.tensor([[4,5], [6,3], [8,7]])"
      ],
      "metadata": {
        "id": "H6cqtVvnpaXr"
      },
      "execution_count": 117,
      "outputs": []
    },
    {
      "cell_type": "code",
      "source": [
        "matrix2.shape"
      ],
      "metadata": {
        "colab": {
          "base_uri": "https://localhost:8080/"
        },
        "id": "LpZ15BdiqbgL",
        "outputId": "6d317d4a-41da-45a6-b9ee-200561dc32b3"
      },
      "execution_count": 118,
      "outputs": [
        {
          "output_type": "execute_result",
          "data": {
            "text/plain": [
              "torch.Size([3, 2])"
            ]
          },
          "metadata": {},
          "execution_count": 118
        }
      ]
    },
    {
      "cell_type": "code",
      "source": [
        "multiply = torch.matmul(matrix1, matrix2)"
      ],
      "metadata": {
        "id": "jlemU5gMqelC"
      },
      "execution_count": 119,
      "outputs": []
    },
    {
      "cell_type": "code",
      "source": [
        "multiply"
      ],
      "metadata": {
        "colab": {
          "base_uri": "https://localhost:8080/"
        },
        "id": "RvbXPuF2qs9q",
        "outputId": "0f32cb13-c98c-4a7e-fb48-3ea54bbd786c"
      },
      "execution_count": 120,
      "outputs": [
        {
          "output_type": "execute_result",
          "data": {
            "text/plain": [
              "tensor([[ 40,  32],\n",
              "        [ 94,  77],\n",
              "        [148, 122],\n",
              "        [202, 167]])"
            ]
          },
          "metadata": {},
          "execution_count": 120
        }
      ]
    },
    {
      "cell_type": "code",
      "source": [
        "multiply.shape"
      ],
      "metadata": {
        "colab": {
          "base_uri": "https://localhost:8080/"
        },
        "id": "mgiqsnxcq6uy",
        "outputId": "d4f4c408-139e-4653-c539-3269eb15c419"
      },
      "execution_count": 121,
      "outputs": [
        {
          "output_type": "execute_result",
          "data": {
            "text/plain": [
              "torch.Size([4, 2])"
            ]
          },
          "metadata": {},
          "execution_count": 121
        }
      ]
    },
    {
      "cell_type": "code",
      "source": [
        "matrix1"
      ],
      "metadata": {
        "colab": {
          "base_uri": "https://localhost:8080/"
        },
        "id": "-RQ6QaUqq97C",
        "outputId": "afa58945-b373-42e8-d162-9758bbc914c3"
      },
      "execution_count": 122,
      "outputs": [
        {
          "output_type": "execute_result",
          "data": {
            "text/plain": [
              "tensor([[ 1,  2,  3],\n",
              "        [ 4,  5,  6],\n",
              "        [ 7,  8,  9],\n",
              "        [10, 11, 12]])"
            ]
          },
          "metadata": {},
          "execution_count": 122
        }
      ]
    },
    {
      "cell_type": "code",
      "source": [
        "matrix1.T\n"
      ],
      "metadata": {
        "colab": {
          "base_uri": "https://localhost:8080/"
        },
        "id": "4-vRyBMarOmy",
        "outputId": "734bfc69-591f-4799-808b-b402c183e608"
      },
      "execution_count": 123,
      "outputs": [
        {
          "output_type": "execute_result",
          "data": {
            "text/plain": [
              "tensor([[ 1,  4,  7, 10],\n",
              "        [ 2,  5,  8, 11],\n",
              "        [ 3,  6,  9, 12]])"
            ]
          },
          "metadata": {},
          "execution_count": 123
        }
      ]
    },
    {
      "cell_type": "code",
      "source": [
        "zeroTensor = torch.zeros(3,3)"
      ],
      "metadata": {
        "id": "GeY8EThlrTBS"
      },
      "execution_count": 124,
      "outputs": []
    },
    {
      "cell_type": "code",
      "source": [
        "zeroTensor"
      ],
      "metadata": {
        "colab": {
          "base_uri": "https://localhost:8080/"
        },
        "id": "23o9Ymo5rl9S",
        "outputId": "b0d9d3c3-3559-404b-b27b-672d0dac7183"
      },
      "execution_count": 125,
      "outputs": [
        {
          "output_type": "execute_result",
          "data": {
            "text/plain": [
              "tensor([[0., 0., 0.],\n",
              "        [0., 0., 0.],\n",
              "        [0., 0., 0.]])"
            ]
          },
          "metadata": {},
          "execution_count": 125
        }
      ]
    },
    {
      "cell_type": "code",
      "source": [
        "onesTensor = torch.ones(3,4)"
      ],
      "metadata": {
        "id": "ergkagSUrpAi"
      },
      "execution_count": 126,
      "outputs": []
    },
    {
      "cell_type": "code",
      "source": [
        "onesTensor"
      ],
      "metadata": {
        "colab": {
          "base_uri": "https://localhost:8080/"
        },
        "id": "q4b-ITAPrwAy",
        "outputId": "3592551a-fe29-4d7d-aa3a-5f324f9092bb"
      },
      "execution_count": 127,
      "outputs": [
        {
          "output_type": "execute_result",
          "data": {
            "text/plain": [
              "tensor([[1., 1., 1., 1.],\n",
              "        [1., 1., 1., 1.],\n",
              "        [1., 1., 1., 1.]])"
            ]
          },
          "metadata": {},
          "execution_count": 127
        }
      ]
    },
    {
      "cell_type": "code",
      "source": [
        "negativeTensor = torch.randn(3,4)\n",
        "negativeTensor"
      ],
      "metadata": {
        "colab": {
          "base_uri": "https://localhost:8080/"
        },
        "id": "wlIRzqisrxbj",
        "outputId": "db555b49-c1e1-4997-f229-6dcdf88878ba"
      },
      "execution_count": 128,
      "outputs": [
        {
          "output_type": "execute_result",
          "data": {
            "text/plain": [
              "tensor([[-0.0872, -0.7946, -0.0046,  1.9461],\n",
              "        [-2.3049, -1.2736,  1.0904,  0.4842],\n",
              "        [ 0.2571, -0.2868, -0.6380,  0.5703]])"
            ]
          },
          "metadata": {},
          "execution_count": 128
        }
      ]
    },
    {
      "cell_type": "code",
      "source": [
        "positiveTensor = torch.rand(3,3)\n",
        "positiveTensor"
      ],
      "metadata": {
        "colab": {
          "base_uri": "https://localhost:8080/"
        },
        "id": "xqs0d87fr_by",
        "outputId": "6871e2b9-8df4-48d5-eb5c-9914718ed60c"
      },
      "execution_count": 129,
      "outputs": [
        {
          "output_type": "execute_result",
          "data": {
            "text/plain": [
              "tensor([[0.5459, 0.4857, 0.0077],\n",
              "        [0.0555, 0.9290, 0.1704],\n",
              "        [0.6304, 0.2397, 0.4635]])"
            ]
          },
          "metadata": {},
          "execution_count": 129
        }
      ]
    },
    {
      "cell_type": "code",
      "source": [
        "customFill = torch.full((3,3), 6)"
      ],
      "metadata": {
        "id": "E-wpoC7qsIUi"
      },
      "execution_count": 130,
      "outputs": []
    },
    {
      "cell_type": "code",
      "source": [
        "customFill"
      ],
      "metadata": {
        "colab": {
          "base_uri": "https://localhost:8080/"
        },
        "id": "VAeSqBq2sX-8",
        "outputId": "a34f30a8-7027-4af9-ea82-02c825589092"
      },
      "execution_count": 131,
      "outputs": [
        {
          "output_type": "execute_result",
          "data": {
            "text/plain": [
              "tensor([[6, 6, 6],\n",
              "        [6, 6, 6],\n",
              "        [6, 6, 6]])"
            ]
          },
          "metadata": {},
          "execution_count": 131
        }
      ]
    },
    {
      "cell_type": "markdown",
      "source": [
        "Working with FMNIST Data"
      ],
      "metadata": {
        "id": "rusYlfxTsj8S"
      }
    },
    {
      "cell_type": "code",
      "source": [
        "from torch.utils.data import DataLoader\n",
        "from torchvision import datasets\n",
        "from torchvision.transforms import ToTensor\n",
        "from torch import nn"
      ],
      "metadata": {
        "id": "UVhobj9EsZoD"
      },
      "execution_count": 132,
      "outputs": []
    },
    {
      "cell_type": "code",
      "source": [
        "train_data = datasets.FashionMNIST(\n",
        "    root = \"data\",\n",
        "    train = True,\n",
        "    download= True,\n",
        "    transform = ToTensor()\n",
        ")"
      ],
      "metadata": {
        "id": "JWsxy33FtBxj"
      },
      "execution_count": 133,
      "outputs": []
    },
    {
      "cell_type": "code",
      "source": [
        "type(train_data)"
      ],
      "metadata": {
        "colab": {
          "base_uri": "https://localhost:8080/",
          "height": 220
        },
        "id": "zFVIr3jQt3IT",
        "outputId": "9814e970-93b9-4556-ea59-d808adeabb7a"
      },
      "execution_count": 134,
      "outputs": [
        {
          "output_type": "execute_result",
          "data": {
            "text/plain": [
              "torchvision.datasets.mnist.FashionMNIST"
            ],
            "text/html": [
              "<div style=\"max-width:800px; border: 1px solid var(--colab-border-color);\"><style>\n",
              "      pre.function-repr-contents {\n",
              "        overflow-x: auto;\n",
              "        padding: 8px 12px;\n",
              "        max-height: 500px;\n",
              "      }\n",
              "\n",
              "      pre.function-repr-contents.function-repr-contents-collapsed {\n",
              "        cursor: pointer;\n",
              "        max-height: 100px;\n",
              "      }\n",
              "    </style>\n",
              "    <pre style=\"white-space: initial; background:\n",
              "         var(--colab-secondary-surface-color); padding: 8px 12px;\n",
              "         border-bottom: 1px solid var(--colab-border-color);\"><b>torchvision.datasets.mnist.FashionMNIST</b><br/>def __init__(root: Union[str, Path], train: bool=True, transform: Optional[Callable]=None, target_transform: Optional[Callable]=None, download: bool=False) -&gt; None</pre><pre class=\"function-repr-contents function-repr-contents-collapsed\" style=\"\"><a class=\"filepath\" style=\"display:none\" href=\"#\">/usr/local/lib/python3.10/dist-packages/torchvision/datasets/mnist.py</a>`Fashion-MNIST &lt;https://github.com/zalandoresearch/fashion-mnist&gt;`_ Dataset.\n",
              "\n",
              "Args:\n",
              "    root (str or ``pathlib.Path``): Root directory of dataset where ``FashionMNIST/raw/train-images-idx3-ubyte``\n",
              "        and  ``FashionMNIST/raw/t10k-images-idx3-ubyte`` exist.\n",
              "    train (bool, optional): If True, creates dataset from ``train-images-idx3-ubyte``,\n",
              "        otherwise from ``t10k-images-idx3-ubyte``.\n",
              "    download (bool, optional): If True, downloads the dataset from the internet and\n",
              "        puts it in root directory. If dataset is already downloaded, it is not\n",
              "        downloaded again.\n",
              "    transform (callable, optional): A function/transform that  takes in a PIL image\n",
              "        and returns a transformed version. E.g, ``transforms.RandomCrop``\n",
              "    target_transform (callable, optional): A function/transform that takes in the\n",
              "        target and transforms it.</pre>\n",
              "      <script>\n",
              "      if (google.colab.kernel.accessAllowed && google.colab.files && google.colab.files.view) {\n",
              "        for (const element of document.querySelectorAll('.filepath')) {\n",
              "          element.style.display = 'block'\n",
              "          element.onclick = (event) => {\n",
              "            event.preventDefault();\n",
              "            event.stopPropagation();\n",
              "            google.colab.files.view(element.textContent, 203);\n",
              "          };\n",
              "        }\n",
              "      }\n",
              "      for (const element of document.querySelectorAll('.function-repr-contents')) {\n",
              "        element.onclick = (event) => {\n",
              "          event.preventDefault();\n",
              "          event.stopPropagation();\n",
              "          element.classList.toggle('function-repr-contents-collapsed');\n",
              "        };\n",
              "      }\n",
              "      </script>\n",
              "      </div>"
            ]
          },
          "metadata": {},
          "execution_count": 134
        }
      ]
    },
    {
      "cell_type": "code",
      "source": [
        "import matplotlib.pyplot as plt\n",
        "plt.figure(figsize = (12,10))\n",
        "for i in range(12):\n",
        "  plt.subplot(3,3,1+1)\n",
        "  sample_image, sample_label = train_data[i]\n",
        "  plt.imshow(sample_image[0])\n",
        "  plt.title(sample_label)"
      ],
      "metadata": {
        "colab": {
          "base_uri": "https://localhost:8080/",
          "height": 309
        },
        "id": "ffogByAlt_hb",
        "outputId": "1ca2ab89-8465-4ec2-a9c4-f621afb83d23"
      },
      "execution_count": 135,
      "outputs": [
        {
          "output_type": "display_data",
          "data": {
            "text/plain": [
              "<Figure size 1200x1000 with 1 Axes>"
            ],
            "image/png": "[encoded data removed]"
          },
          "metadata": {}
        }
      ]
    },
    {
      "cell_type": "code",
      "source": [
        "test_data = datasets.FashionMNIST(\n",
        "    root = \"data\",\n",
        "    train = False,\n",
        "    download= True,\n",
        "    transform = ToTensor()\n",
        ")\n"
      ],
      "metadata": {
        "id": "kxV7OVynwFGI"
      },
      "execution_count": 136,
      "outputs": []
    },
    {
      "cell_type": "markdown",
      "source": [],
      "metadata": {
        "id": "fDtYIo7mwEpx"
      }
    },
    {
      "cell_type": "code",
      "source": [
        "batch_size = 64\n",
        "training = DataLoader(train_data, batch_size=batch_size)\n",
        "testing = DataLoader(test_data, batch_size=batch_size)\n",
        "\n",
        "for X, y in testing:\n",
        "  print(f\"Shape of X [N, C, H, W]: {X.shape}\")\n",
        "  print(f\"Shape of y: {y.shape} {y.dtype}\")\n",
        "  break"
      ],
      "metadata": {
        "colab": {
          "base_uri": "https://localhost:8080/"
        },
        "id": "wUIkMsWJvDKn",
        "outputId": "ba99d85b-2657-4fb9-ff0e-54b13fcfc0dc"
      },
      "execution_count": 137,
      "outputs": [
        {
          "output_type": "stream",
          "name": "stdout",
          "text": [
            "Shape of X [N, C, H, W]: torch.Size([64, 1, 28, 28])\n",
            "Shape of y: torch.Size([64]) torch.int64\n"
          ]
        }
      ]
    },
    {
      "cell_type": "code",
      "source": [
        "for X, y in training:\n",
        "  print(torch.max(X))\n",
        "  print(torch.min(X))\n",
        "  break"
      ],
      "metadata": {
        "colab": {
          "base_uri": "https://localhost:8080/"
        },
        "id": "XgEXTe_pwj7I",
        "outputId": "e1c55dc6-0acd-4d63-c5cc-b66898282140"
      },
      "execution_count": 138,
      "outputs": [
        {
          "output_type": "stream",
          "name": "stdout",
          "text": [
            "tensor(1.)\n",
            "tensor(0.)\n"
          ]
        }
      ]
    },
    {
      "cell_type": "code",
      "source": [
        "class NeuralNetwork(nn.Module):\n",
        "  def __init__(self):\n",
        "    super(NeuralNetwork, self).__init__()\n",
        "    self.flatten = nn.Flatten()\n",
        "    self.build_model = nn.Sequential(nn.Linear(28*28, 512),\n",
        "                                      nn.ReLU(),\n",
        "                                      nn.Linear(512, 512),\n",
        "                                      nn.ReLU(),\n",
        "                                      nn.Linear(512, 10))\n",
        "  def forward(self, x):\n",
        "    x = self.flatten(x)\n",
        "    dnn = self.build_model(x)\n",
        "    return dnn\n",
        ""
      ],
      "metadata": {
        "id": "axY5YmKTw6tU"
      },
      "execution_count": 155,
      "outputs": []
    },
    {
      "cell_type": "code",
      "source": [
        "model = NeuralNetwork()"
      ],
      "metadata": {
        "id": "yU_u-q-lxdll"
      },
      "execution_count": 156,
      "outputs": []
    },
    {
      "cell_type": "code",
      "source": [
        "loss_fn = nn.CrossEntropyLoss()\n",
        "optimizer = torch.optim.Adam(model.parameters(), lr=1e-5)"
      ],
      "metadata": {
        "id": "EDTlvAyfxlA1"
      },
      "execution_count": 157,
      "outputs": []
    },
    {
      "cell_type": "code",
      "source": [
        "def train(dataloader, model, loss_fn, optimizer):\n",
        "  size = len(dataloader.dataset)\n",
        "  model.train()\n",
        "  for batch, (X,y) in enumerate(dataloader):\n",
        "    pred = model(X)\n",
        "    loss = loss_fn(pred, y)\n",
        "\n",
        "    optimizer.zero_grad()\n",
        "    loss.backward()\n",
        "    optimizer.step()\n",
        "    if batch % 100 == 0:\n",
        "      loss, current = loss.item(), batch * len(X)\n",
        "      print(f\"loss: {loss:>7f} [{current:>5d}/{size:>5d}]\")"
      ],
      "metadata": {
        "id": "o3bAITFkx7FE"
      },
      "execution_count": 158,
      "outputs": []
    },
    {
      "cell_type": "code",
      "source": [
        "def test(dataloader, model, loss_fn):\n",
        "  size = len(dataloader.dataset)\n",
        "  num_batches = len(dataloader)\n",
        "  model.eval()\n",
        "  test_loss, correct = 0,0\n",
        "  with torch.no_grad():\n",
        "    for X, y in dataloader:\n",
        "      pred = model(X)\n",
        "      test_loss += loss_fn(pred, y).item()\n",
        "      correct += (pred.argmax(1) == y).type(torch.float).sum().item()\n",
        "      test_loss /= num_batches\n",
        "    correct /= size\n",
        "    print(f\"Test Error: \\n Accuracy: {(100*correct):>0.1f}%, Avg loss: {test_loss:>8f} \\n\")"
      ],
      "metadata": {
        "id": "WmYEYIScyIN1"
      },
      "execution_count": 159,
      "outputs": []
    },
    {
      "cell_type": "code",
      "source": [
        "for epoch in range(5):\n",
        "  print(f\"Epoch {epoch+1}\\n-------------------------------\")\n",
        "  train(training, model, loss_fn, optimizer)\n",
        "  test(testing, model, loss_fn)"
      ],
      "metadata": {
        "colab": {
          "base_uri": "https://localhost:8080/"
        },
        "id": "vbwbl8Bayext",
        "outputId": "bc41e174-f909-4e94-e097-1643f148b083"
      },
      "execution_count": 160,
      "outputs": [
        {
          "output_type": "stream",
          "name": "stdout",
          "text": [
            "Epoch 1\n",
            "-------------------------------\n",
            "loss: 2.309561 [    0/60000]\n",
            "loss: 2.197305 [ 6400/60000]\n",
            "loss: 1.960470 [12800/60000]\n",
            "loss: 1.793691 [19200/60000]\n",
            "loss: 1.418175 [25600/60000]\n",
            "loss: 1.270689 [32000/60000]\n",
            "loss: 1.170661 [38400/60000]\n",
            "loss: 1.023110 [44800/60000]\n",
            "loss: 0.986701 [51200/60000]\n",
            "loss: 0.900538 [57600/60000]\n",
            "Test Error: \n",
            " Accuracy: 68.7%, Avg loss: 0.004927 \n",
            "\n",
            "Epoch 2\n",
            "-------------------------------\n",
            "loss: 0.923365 [    0/60000]\n",
            "loss: 0.945822 [ 6400/60000]\n",
            "loss: 0.702365 [12800/60000]\n",
            "loss: 0.905428 [19200/60000]\n",
            "loss: 0.729079 [25600/60000]\n",
            "loss: 0.748346 [32000/60000]\n",
            "loss: 0.778594 [38400/60000]\n",
            "loss: 0.734296 [44800/60000]\n",
            "loss: 0.724177 [51200/60000]\n",
            "loss: 0.716240 [57600/60000]\n",
            "Test Error: \n",
            " Accuracy: 75.6%, Avg loss: 0.002923 \n",
            "\n",
            "Epoch 3\n",
            "-------------------------------\n",
            "loss: 0.661520 [    0/60000]\n",
            "loss: 0.751011 [ 6400/60000]\n",
            "loss: 0.519472 [12800/60000]\n",
            "loss: 0.774017 [19200/60000]\n",
            "loss: 0.622651 [25600/60000]\n",
            "loss: 0.643344 [32000/60000]\n",
            "loss: 0.656410 [38400/60000]\n",
            "loss: 0.676896 [44800/60000]\n",
            "loss: 0.649979 [51200/60000]\n",
            "loss: 0.633580 [57600/60000]\n",
            "Test Error: \n",
            " Accuracy: 78.3%, Avg loss: 0.002426 \n",
            "\n",
            "Epoch 4\n",
            "-------------------------------\n",
            "loss: 0.562496 [    0/60000]\n",
            "loss: 0.654151 [ 6400/60000]\n",
            "loss: 0.444615 [12800/60000]\n",
            "loss: 0.709027 [19200/60000]\n",
            "loss: 0.575295 [25600/60000]\n",
            "loss: 0.593435 [32000/60000]\n",
            "loss: 0.588371 [38400/60000]\n",
            "loss: 0.657442 [44800/60000]\n",
            "loss: 0.622423 [51200/60000]\n",
            "loss: 0.580430 [57600/60000]\n",
            "Test Error: \n",
            " Accuracy: 79.9%, Avg loss: 0.002240 \n",
            "\n",
            "Epoch 5\n",
            "-------------------------------\n",
            "loss: 0.507006 [    0/60000]\n",
            "loss: 0.595588 [ 6400/60000]\n",
            "loss: 0.402453 [12800/60000]\n",
            "loss: 0.665323 [19200/60000]\n",
            "loss: 0.542916 [25600/60000]\n",
            "loss: 0.560165 [32000/60000]\n",
            "loss: 0.542936 [38400/60000]\n",
            "loss: 0.650561 [44800/60000]\n",
            "loss: 0.610303 [51200/60000]\n",
            "loss: 0.540599 [57600/60000]\n",
            "Test Error: \n",
            " Accuracy: 80.9%, Avg loss: 0.002137 \n",
            "\n"
          ]
        }
      ]
    },
    {
      "cell_type": "code",
      "source": [],
      "metadata": {
        "id": "vy_k90ZzynC8"
      },
      "execution_count": null,
      "outputs": []
    }
  ]
}